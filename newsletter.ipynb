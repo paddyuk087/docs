{
  "nbformat": 4,
  "nbformat_minor": 0,
  "metadata": {
    "colab": {
      "private_outputs": true,
      "provenance": [],
      "authorship_tag": "ABX9TyOdf0Htb/grgLR7gtqDfteJ",
      "include_colab_link": true
    },
    "kernelspec": {
      "name": "python3",
      "display_name": "Python 3"
    },
    "language_info": {
      "name": "python"
    }
  },
  "cells": [
    {
      "cell_type": "markdown",
      "metadata": {
        "id": "view-in-github",
        "colab_type": "text"
      },
      "source": [
        "<a href=\"https://colab.research.google.com/github/paddyuk087/docs/blob/main/newsletter.ipynb\" target=\"_parent\"><img src=\"https://colab.research.google.com/assets/colab-badge.svg\" alt=\"Open In Colab\"/></a>"
      ]
    },
    {
      "cell_type": "code",
      "source": [
        "import requests\n",
        "import pandas as pd\n",
        "from bs4 import BeautifulSoup\n",
        "\n",
        "# Load the CSV file with error handling\n",
        "try:\n",
        "    domains = pd.read_csv('domain.csv', on_bad_lines='skip')  # Skip lines with errors\n",
        "except pd.errors.ParserError as e:\n",
        "    print(f\"Error reading CSV file: {e}\")\n",
        "    domains = pd.DataFrame()  # Create an empty DataFrame if reading fails\n",
        "\n",
        "# Function to check for newsletter\n",
        "def check_newsletter(domain):\n",
        "    try:\n",
        "        response = requests.get(domain)\n",
        "        soup = BeautifulSoup(response.text, 'html.parser')\n",
        "\n",
        "        # Look for common newsletter keywords\n",
        "        if soup.find(string=lambda text: 'subscribe' in text.lower() or 'newsletter' in text.lower()):\n",
        "            return True\n",
        "        return False\n",
        "    except Exception as e:\n",
        "        print(f\"Error checking {domain}: {e}\")\n",
        "        return False\n",
        "\n",
        "# Check each domain and store results\n",
        "results = []\n",
        "if not domains.empty:\n",
        "    for domain in domains['Domain']:\n",
        "        exists = check_newsletter(domain)\n",
        "        results.append({'Domain': domain, 'Newsletter Exists': exists})\n",
        "\n",
        "    # Save results to a new CSV file\n",
        "    results_df = pd.DataFrame(results)\n",
        "    results_df.to_csv('newsletter_results.csv', index=False)"
      ],
      "metadata": {
        "id": "7SnC--Jjq3gX"
      },
      "execution_count": null,
      "outputs": []
    }
  ]
}